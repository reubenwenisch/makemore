{
 "cells": [
  {
   "cell_type": "code",
   "execution_count": 61,
   "metadata": {},
   "outputs": [],
   "source": [
    "class Value():\n",
    "    def __init__(self, value) -> None:\n",
    "        self.value = value\n",
    "    def __str__(self):\n",
    "        return f\"The value is {self.value}\"\n",
    "    def __add__(self, other):\n",
    "        return Value(self.value+other.value)\n",
    "    def __sub__(self, other):\n",
    "        return Value(self.value-other.value)\n",
    "    def __mul__(self, other):\n",
    "        return Value(self.value*other.value)\n",
    "    def __truediv__(self, other):\n",
    "        return Value(self.value/other.value)\n",
    "    # print our string object\n",
    "    def __repr__(self):\n",
    "        return f\"Class: {self.__class__.__name__} with value {self.value}\""
   ]
  },
  {
   "cell_type": "code",
   "execution_count": null,
   "metadata": {},
   "outputs": [],
   "source": [
    "import random\n",
    "class Neuron:\n",
    "    def __init__(self, nin):\n",
    "        self.w = Value(random.uniform(-1,1) for _ in range(nin))\n",
    "        self.b = Value(random.uniform(-1,1) for _ in range(nin))\n",
    "\n",
    "    def call__(self, x):\n",
    "        act = sum((wi*xi for wi, xi in zip(self.w,x)), self.b)\n",
    "        out = act.tanh()\n",
    "        return out\n",
    "    def parameters(self):\n",
    "        return self.w+self.b\n",
    "class Layer:\n",
    "    "
   ]
  },
  {
   "cell_type": "code",
   "execution_count": 62,
   "metadata": {},
   "outputs": [],
   "source": [
    "a = Value(3)\n",
    "b = Value(4)"
   ]
  },
  {
   "cell_type": "code",
   "execution_count": 64,
   "metadata": {},
   "outputs": [
    {
     "name": "stdout",
     "output_type": "stream",
     "text": [
      "The value is 0.75\n"
     ]
    }
   ],
   "source": [
    "print(a/b)"
   ]
  },
  {
   "cell_type": "code",
   "execution_count": 27,
   "metadata": {},
   "outputs": [
    {
     "data": {
      "text/plain": [
       "0.75"
      ]
     },
     "execution_count": 27,
     "metadata": {},
     "output_type": "execute_result"
    }
   ],
   "source": [
    "3/4"
   ]
  },
  {
   "cell_type": "code",
   "execution_count": 29,
   "metadata": {},
   "outputs": [
    {
     "data": {
      "text/plain": [
       "int"
      ]
     },
     "execution_count": 29,
     "metadata": {},
     "output_type": "execute_result"
    }
   ],
   "source": [
    "type(3)"
   ]
  },
  {
   "cell_type": "code",
   "execution_count": null,
   "metadata": {},
   "outputs": [],
   "source": []
  }
 ],
 "metadata": {
  "kernelspec": {
   "display_name": "Python 3.10.6 64-bit",
   "language": "python",
   "name": "python3"
  },
  "language_info": {
   "codemirror_mode": {
    "name": "ipython",
    "version": 3
   },
   "file_extension": ".py",
   "mimetype": "text/x-python",
   "name": "python",
   "nbconvert_exporter": "python",
   "pygments_lexer": "ipython3",
   "version": "3.10.6"
  },
  "orig_nbformat": 4,
  "vscode": {
   "interpreter": {
    "hash": "916dbcbb3f70747c44a77c7bcd40155683ae19c65e1c03b4aa3499c5328201f1"
   }
  }
 },
 "nbformat": 4,
 "nbformat_minor": 2
}
